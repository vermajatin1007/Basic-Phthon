{
 "cells": [
  {
   "cell_type": "code",
   "execution_count": 1,
   "id": "fd1e7e0b",
   "metadata": {},
   "outputs": [],
   "source": [
    "# Numeric --INT,F;oat,Complex\n",
    "#String = STR\n",
    "#List\n",
    "#Tuple ,ICT SETS "
   ]
  },
  {
   "cell_type": "code",
   "execution_count": 2,
   "id": "e4e93e8a",
   "metadata": {},
   "outputs": [],
   "source": [
    "x=10"
   ]
  },
  {
   "cell_type": "code",
   "execution_count": 3,
   "id": "bb880c2d",
   "metadata": {},
   "outputs": [],
   "source": [
    "x=1.34"
   ]
  },
  {
   "cell_type": "code",
   "execution_count": 4,
   "id": "befc255b",
   "metadata": {},
   "outputs": [],
   "source": [
    "x='Jatin'"
   ]
  },
  {
   "cell_type": "code",
   "execution_count": 5,
   "id": "857a226d",
   "metadata": {},
   "outputs": [],
   "source": [
    "x=['hi',4,3,14]"
   ]
  },
  {
   "cell_type": "code",
   "execution_count": 6,
   "id": "b165821b",
   "metadata": {},
   "outputs": [],
   "source": [
    "y={'name':'Imran'}"
   ]
  },
  {
   "cell_type": "code",
   "execution_count": 7,
   "id": "98c09c68",
   "metadata": {},
   "outputs": [
    {
     "data": {
      "text/plain": [
       "dict"
      ]
     },
     "execution_count": 7,
     "metadata": {},
     "output_type": "execute_result"
    }
   ],
   "source": [
    "type(y)"
   ]
  },
  {
   "cell_type": "code",
   "execution_count": null,
   "id": "5fa39f61",
   "metadata": {},
   "outputs": [],
   "source": [
    "x=input()"
   ]
  },
  {
   "cell_type": "code",
   "execution_count": null,
   "id": "0a5e25c9",
   "metadata": {},
   "outputs": [],
   "source": [
    "y=input()"
   ]
  },
  {
   "cell_type": "code",
   "execution_count": null,
   "id": "3ac0b7bd",
   "metadata": {},
   "outputs": [],
   "source": [
    "x"
   ]
  },
  {
   "cell_type": "code",
   "execution_count": 9,
   "id": "9007fcfe",
   "metadata": {},
   "outputs": [
    {
     "name": "stdout",
     "output_type": "stream",
     "text": [
      "rnyrt yout nsamejatin\n"
     ]
    }
   ],
   "source": [
    "w=input(\"rnyrt yout nsame\")"
   ]
  },
  {
   "cell_type": "code",
   "execution_count": 10,
   "id": "45b716af",
   "metadata": {},
   "outputs": [
    {
     "data": {
      "text/plain": [
       "'jatin'"
      ]
     },
     "execution_count": 10,
     "metadata": {},
     "output_type": "execute_result"
    }
   ],
   "source": [
    "w"
   ]
  },
  {
   "cell_type": "code",
   "execution_count": 11,
   "id": "c8440ec2",
   "metadata": {},
   "outputs": [
    {
     "name": "stdout",
     "output_type": "stream",
     "text": [
      "rnyrt your age34\n",
      "myage is34\n"
     ]
    }
   ],
   "source": [
    "y=input(\"rnyrt your age\")\n",
    "print(\"myage is\"+y)"
   ]
  },
  {
   "cell_type": "code",
   "execution_count": 12,
   "id": "486ddd1d",
   "metadata": {},
   "outputs": [
    {
     "name": "stdout",
     "output_type": "stream",
     "text": [
      "50\n"
     ]
    }
   ],
   "source": [
    "x=10\n",
    "y=40\n",
    "print(x+y)"
   ]
  },
  {
   "cell_type": "code",
   "execution_count": 13,
   "id": "bd62963e",
   "metadata": {},
   "outputs": [
    {
     "name": "stdout",
     "output_type": "stream",
     "text": [
      "first numberr2\n",
      "secon num3\n",
      "5\n"
     ]
    }
   ],
   "source": [
    "b=int(input(\"first numberr\"))\n",
    "c=int(input(\"secon num\"))\n",
    "print(b+c)"
   ]
  },
  {
   "cell_type": "code",
   "execution_count": 17,
   "id": "2615f007",
   "metadata": {},
   "outputs": [
    {
     "name": "stdout",
     "output_type": "stream",
     "text": [
      "hi ok skills\n"
     ]
    }
   ],
   "source": [
    "x=\"hi\"\n",
    "y=\"skills\"\n",
    "print(f\"{x} ok {y}\")"
   ]
  },
  {
   "cell_type": "code",
   "execution_count": 22,
   "id": "3af4a8c4",
   "metadata": {},
   "outputs": [
    {
     "name": "stdout",
     "output_type": "stream",
     "text": [
      "pwanskills\n"
     ]
    }
   ],
   "source": [
    "print(\"{0}an{1}\".format(\"pw\",\"skills\"))"
   ]
  },
  {
   "cell_type": "code",
   "execution_count": 23,
   "id": "203b6e27",
   "metadata": {},
   "outputs": [
    {
     "data": {
      "text/plain": [
       "True"
      ]
     },
     "execution_count": 23,
     "metadata": {},
     "output_type": "execute_result"
    }
   ],
   "source": [
    "a=10\n",
    "b=10\n",
    "a==b"
   ]
  },
  {
   "cell_type": "code",
   "execution_count": 24,
   "id": "4bf6e121",
   "metadata": {},
   "outputs": [
    {
     "data": {
      "text/plain": [
       "True"
      ]
     },
     "execution_count": 24,
     "metadata": {},
     "output_type": "execute_result"
    }
   ],
   "source": [
    "a is b #ientity operator "
   ]
  },
  {
   "cell_type": "code",
   "execution_count": 25,
   "id": "8f4ec81b",
   "metadata": {},
   "outputs": [
    {
     "data": {
      "text/plain": [
       "False"
      ]
     },
     "execution_count": 25,
     "metadata": {},
     "output_type": "execute_result"
    }
   ],
   "source": [
    "a!=b"
   ]
  },
  {
   "cell_type": "code",
   "execution_count": 26,
   "id": "9c05a68e",
   "metadata": {},
   "outputs": [
    {
     "data": {
      "text/plain": [
       "True"
      ]
     },
     "execution_count": 26,
     "metadata": {},
     "output_type": "execute_result"
    }
   ],
   "source": [
    "a=[1,2,3]\n",
    "b=[1,2,3]\n",
    "a==b"
   ]
  },
  {
   "cell_type": "code",
   "execution_count": 27,
   "id": "d0f47e53",
   "metadata": {},
   "outputs": [
    {
     "data": {
      "text/plain": [
       "False"
      ]
     },
     "execution_count": 27,
     "metadata": {},
     "output_type": "execute_result"
    }
   ],
   "source": [
    "a is b"
   ]
  },
  {
   "cell_type": "code",
   "execution_count": 28,
   "id": "7cea9221",
   "metadata": {},
   "outputs": [
    {
     "data": {
      "text/plain": [
       "False"
      ]
     },
     "execution_count": 28,
     "metadata": {},
     "output_type": "execute_result"
    }
   ],
   "source": [
    "a!=b"
   ]
  },
  {
   "cell_type": "code",
   "execution_count": 29,
   "id": "1de94202",
   "metadata": {},
   "outputs": [],
   "source": [
    "x=10\n",
    "y=3**35/x"
   ]
  },
  {
   "cell_type": "code",
   "execution_count": 30,
   "id": "fed885ef",
   "metadata": {},
   "outputs": [
    {
     "name": "stdout",
     "output_type": "stream",
     "text": [
      "5003154509899971.0\n"
     ]
    }
   ],
   "source": [
    "print(y)"
   ]
  },
  {
   "cell_type": "code",
   "execution_count": null,
   "id": "bef1026d",
   "metadata": {},
   "outputs": [],
   "source": []
  }
 ],
 "metadata": {
  "kernelspec": {
   "display_name": "Python 3 (ipykernel)",
   "language": "python",
   "name": "python3"
  },
  "language_info": {
   "codemirror_mode": {
    "name": "ipython",
    "version": 3
   },
   "file_extension": ".py",
   "mimetype": "text/x-python",
   "name": "python",
   "nbconvert_exporter": "python",
   "pygments_lexer": "ipython3",
   "version": "3.11.4"
  }
 },
 "nbformat": 4,
 "nbformat_minor": 5
}
