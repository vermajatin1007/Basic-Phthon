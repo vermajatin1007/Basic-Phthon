{
 "cells": [
  {
   "cell_type": "code",
   "execution_count": 1,
   "id": "fd1e7e0b",
   "metadata": {},
   "outputs": [],
   "source": [
    "# Numeric --INT,F;oat,Complex\n",
    "#String = STR\n",
    "#List\n",
    "#Tuple ,ICT SETS "
   ]
  },
  {
   "cell_type": "code",
   "execution_count": 2,
   "id": "e4e93e8a",
   "metadata": {},
   "outputs": [],
   "source": [
    "x=10"
   ]
  },
  {
   "cell_type": "code",
   "execution_count": 3,
   "id": "bb880c2d",
   "metadata": {},
   "outputs": [],
   "source": [
    "x=1.34"
   ]
  },
  {
   "cell_type": "code",
   "execution_count": 4,
   "id": "befc255b",
   "metadata": {},
   "outputs": [],
   "source": [
    "x='Jatin'"
   ]
  },
  {
   "cell_type": "code",
   "execution_count": 5,
   "id": "857a226d",
   "metadata": {},
   "outputs": [],
   "source": [
    "x=['hi',4,3,14]"
   ]
  },
  {
   "cell_type": "code",
   "execution_count": 6,
   "id": "b165821b",
   "metadata": {},
   "outputs": [],
   "source": [
    "y={'name':'Imran'}"
   ]
  },
  {
   "cell_type": "code",
   "execution_count": 7,
   "id": "98c09c68",
   "metadata": {},
   "outputs": [
    {
     "data": {
      "text/plain": [
       "dict"
      ]
     },
     "execution_count": 7,
     "metadata": {},
     "output_type": "execute_result"
    }
   ],
   "source": [
    "type(y)"
   ]
  },
  {
   "cell_type": "code",
   "execution_count": null,
   "id": "5fa39f61",
   "metadata": {},
   "outputs": [],
   "source": [
    "x=input()"
   ]
  },
  {
   "cell_type": "code",
   "execution_count": null,
   "id": "0a5e25c9",
   "metadata": {},
   "outputs": [],
   "source": [
    "y=input()"
   ]
  },
  {
   "cell_type": "code",
   "execution_count": null,
   "id": "3ac0b7bd",
   "metadata": {},
   "outputs": [],
   "source": [
    "x"
   ]
  },
  {
   "cell_type": "code",
   "execution_count": 9,
   "id": "9007fcfe",
   "metadata": {},
   "outputs": [
    {
     "name": "stdout",
     "output_type": "stream",
     "text": [
      "rnyrt yout nsamejatin\n"
     ]
    }
   ],
   "source": [
    "w=input(\"rnyrt yout nsame\")"
   ]
  },
  {
   "cell_type": "code",
   "execution_count": 10,
   "id": "45b716af",
   "metadata": {},
   "outputs": [
    {
     "data": {
      "text/plain": [
       "'jatin'"
      ]
     },
     "execution_count": 10,
     "metadata": {},
     "output_type": "execute_result"
    }
   ],
   "source": [
    "w"
   ]
  },
  {
   "cell_type": "code",
   "execution_count": 11,
   "id": "7b475912",
   "metadata": {},
   "outputs": [
    {
     "name": "stdout",
     "output_type": "stream",
     "text": [
      "rnyrt your age34\n",
      "myage is34\n"
     ]
    }
   ],
   "source": [
    "y=input(\"rnyrt your age\")\n",
    "print(\"myage is\"+y)"
   ]
  },
  {
   "cell_type": "code",
   "execution_count": 12,
   "id": "34717f42",
   "metadata": {},
   "outputs": [
    {
     "name": "stdout",
     "output_type": "stream",
     "text": [
      "50\n"
     ]
    }
   ],
   "source": [
    "x=10\n",
    "y=40\n",
    "print(x+y)"
   ]
  },
  {
   "cell_type": "code",
   "execution_count": 13,
   "id": "461ef9ec",
   "metadata": {},
   "outputs": [
    {
     "name": "stdout",
     "output_type": "stream",
     "text": [
      "first numberr2\n",
      "secon num3\n",
      "5\n"
     ]
    }
   ],
   "source": [
    "b=int(input(\"first numberr\"))\n",
    "c=int(input(\"secon num\"))\n",
    "print(b+c)"
   ]
  },
  {
   "cell_type": "code",
   "execution_count": 17,
   "id": "62c720ff",
   "metadata": {},
   "outputs": [
    {
     "name": "stdout",
     "output_type": "stream",
     "text": [
      "hi ok skills\n"
     ]
    }
   ],
   "source": [
    "x=\"hi\"\n",
    "y=\"skills\"\n",
    "print(f\"{x} ok {y}\")"
   ]
  },
  {
   "cell_type": "code",
   "execution_count": 22,
   "id": "dcdbcceb",
   "metadata": {},
   "outputs": [
    {
     "name": "stdout",
     "output_type": "stream",
     "text": [
      "pwanskills\n"
     ]
    }
   ],
   "source": [
    "print(\"{0}an{1}\".format(\"pw\",\"skills\"))"
   ]
  },
  {
   "cell_type": "code",
   "execution_count": 23,
   "id": "aa0a83c0",
   "metadata": {},
   "outputs": [
    {
     "data": {
      "text/plain": [
       "True"
      ]
     },
     "execution_count": 23,
     "metadata": {},
     "output_type": "execute_result"
    }
   ],
   "source": [
    "a=10\n",
    "b=10\n",
    "a==b"
   ]
  },
  {
   "cell_type": "code",
   "execution_count": 24,
   "id": "aa5f066a",
   "metadata": {},
   "outputs": [
    {
     "data": {
      "text/plain": [
       "True"
      ]
     },
     "execution_count": 24,
     "metadata": {},
     "output_type": "execute_result"
    }
   ],
   "source": [
    "a is b #ientity operator "
   ]
  },
  {
   "cell_type": "code",
   "execution_count": 25,
   "id": "de16e852",
   "metadata": {},
   "outputs": [
    {
     "data": {
      "text/plain": [
       "False"
      ]
     },
     "execution_count": 25,
     "metadata": {},
     "output_type": "execute_result"
    }
   ],
   "source": [
    "a!=b"
   ]
  },
  {
   "cell_type": "code",
   "execution_count": 26,
   "id": "239a7d2b",
   "metadata": {},
   "outputs": [
    {
     "data": {
      "text/plain": [
       "True"
      ]
     },
     "execution_count": 26,
     "metadata": {},
     "output_type": "execute_result"
    }
   ],
   "source": [
    "a=[1,2,3]\n",
    "b=[1,2,3]\n",
    "a==b"
   ]
  },
  {
   "cell_type": "code",
   "execution_count": 27,
   "id": "ad4aeca8",
   "metadata": {},
   "outputs": [
    {
     "data": {
      "text/plain": [
       "False"
      ]
     },
     "execution_count": 27,
     "metadata": {},
     "output_type": "execute_result"
    }
   ],
   "source": [
    "a is b"
   ]
  },
  {
   "cell_type": "code",
   "execution_count": 28,
   "id": "97a3675e",
   "metadata": {},
   "outputs": [
    {
     "data": {
      "text/plain": [
       "False"
      ]
     },
     "execution_count": 28,
     "metadata": {},
     "output_type": "execute_result"
    }
   ],
   "source": [
    "a!=b"
   ]
  },
  {
   "cell_type": "code",
   "execution_count": 29,
   "id": "ad5b8967",
   "metadata": {},
   "outputs": [],
   "source": [
    "x=10\n",
    "y=3**35/x"
   ]
  },
  {
   "cell_type": "code",
   "execution_count": 30,
   "id": "359662a4",
   "metadata": {},
   "outputs": [
    {
     "name": "stdout",
     "output_type": "stream",
     "text": [
      "5003154509899971.0\n"
     ]
    }
   ],
   "source": [
    "print(y)"
   ]
  },
  {
   "cell_type": "code",
   "execution_count": 32,
   "id": "526f6396",
   "metadata": {},
   "outputs": [
    {
     "data": {
      "text/plain": [
       "'0b1010'"
      ]
     },
     "execution_count": 32,
     "metadata": {},
     "output_type": "execute_result"
    }
   ],
   "source": [
    "bin(x)"
   ]
  },
  {
   "cell_type": "code",
   "execution_count": 33,
   "id": "6fe8c08d",
   "metadata": {},
   "outputs": [
    {
     "data": {
      "text/plain": [
       "0"
      ]
     },
     "execution_count": 33,
     "metadata": {},
     "output_type": "execute_result"
    }
   ],
   "source": [
    "a=10 ;b =4\n",
    "a&b"
   ]
  },
  {
   "cell_type": "code",
   "execution_count": 34,
   "id": "9cd35b34",
   "metadata": {},
   "outputs": [
    {
     "data": {
      "text/plain": [
       "14"
      ]
     },
     "execution_count": 34,
     "metadata": {},
     "output_type": "execute_result"
    }
   ],
   "source": [
    "a|b  #or"
   ]
  },
  {
   "cell_type": "code",
   "execution_count": 35,
   "id": "95fdde0e",
   "metadata": {},
   "outputs": [
    {
     "ename": "TypeError",
     "evalue": "unsupported operand type(s) for ^: 'int' and 'float'",
     "output_type": "error",
     "traceback": [
      "\u001b[1;31m---------------------------------------------------------------------------\u001b[0m",
      "\u001b[1;31mTypeError\u001b[0m                                 Traceback (most recent call last)",
      "Cell \u001b[1;32mIn[35], line 1\u001b[0m\n\u001b[1;32m----> 1\u001b[0m x\u001b[38;5;241m^\u001b[39my\n",
      "\u001b[1;31mTypeError\u001b[0m: unsupported operand type(s) for ^: 'int' and 'float'"
     ]
    }
   ],
   "source": [
    "x^y"
   ]
  },
  {
   "cell_type": "code",
   "execution_count": 36,
   "id": "d91a5119",
   "metadata": {},
   "outputs": [
    {
     "data": {
      "text/plain": [
       "-11"
      ]
     },
     "execution_count": 36,
     "metadata": {},
     "output_type": "execute_result"
    }
   ],
   "source": [
    "~a"
   ]
  },
  {
   "cell_type": "code",
   "execution_count": 37,
   "id": "ec7cefb8",
   "metadata": {},
   "outputs": [
    {
     "data": {
      "text/plain": [
       "10"
      ]
     },
     "execution_count": 37,
     "metadata": {},
     "output_type": "execute_result"
    }
   ],
   "source": [
    "~~a"
   ]
  },
  {
   "cell_type": "code",
   "execution_count": 38,
   "id": "b17ac602",
   "metadata": {},
   "outputs": [
    {
     "data": {
      "text/plain": [
       "5"
      ]
     },
     "execution_count": 38,
     "metadata": {},
     "output_type": "execute_result"
    }
   ],
   "source": [
    "a>>1"
   ]
  },
  {
   "cell_type": "code",
   "execution_count": 41,
   "id": "8adeeefe",
   "metadata": {},
   "outputs": [
    {
     "data": {
      "text/plain": [
       "2"
      ]
     },
     "execution_count": 41,
     "metadata": {},
     "output_type": "execute_result"
    }
   ],
   "source": [
    "a>>2"
   ]
  },
  {
   "cell_type": "code",
   "execution_count": 40,
   "id": "c81b36bc",
   "metadata": {},
   "outputs": [
    {
     "data": {
      "text/plain": [
       "1"
      ]
     },
     "execution_count": 40,
     "metadata": {},
     "output_type": "execute_result"
    }
   ],
   "source": [
    "a>>3"
   ]
  },
  {
   "cell_type": "code",
   "execution_count": 42,
   "id": "3f696bbb",
   "metadata": {},
   "outputs": [],
   "source": [
    "#bitwise operator  & logical operator"
   ]
  },
  {
   "cell_type": "code",
   "execution_count": 43,
   "id": "be9b4303",
   "metadata": {},
   "outputs": [],
   "source": [
    "#an or notd\n"
   ]
  },
  {
   "cell_type": "code",
   "execution_count": 47,
   "id": "26189f89",
   "metadata": {},
   "outputs": [
    {
     "data": {
      "text/plain": [
       "True"
      ]
     },
     "execution_count": 47,
     "metadata": {},
     "output_type": "execute_result"
    }
   ],
   "source": [
    "a = 20\n",
    "b=30\n",
    "(a>10) and (b>20)"
   ]
  },
  {
   "cell_type": "code",
   "execution_count": null,
   "id": "935b3c50",
   "metadata": {},
   "outputs": [],
   "source": [
    "a = true Shift lect"
   ]
  },
  {
   "cell_type": "code",
   "execution_count": 48,
   "id": "aa91f2e1",
   "metadata": {},
   "outputs": [
    {
     "data": {
      "text/plain": [
       "False"
      ]
     },
     "execution_count": 48,
     "metadata": {},
     "output_type": "execute_result"
    }
   ],
   "source": [
    "not(a)"
   ]
  },
  {
   "cell_type": "code",
   "execution_count": 49,
   "id": "2d39dd45",
   "metadata": {},
   "outputs": [],
   "source": [
    "#bitise operator  & - and | --or ^ = xor  ~negation  << shift left >> right shift "
   ]
  },
  {
   "cell_type": "code",
   "execution_count": 50,
   "id": "fa3aa08e",
   "metadata": {},
   "outputs": [
    {
     "data": {
      "text/plain": [
       "'0b1010'"
      ]
     },
     "execution_count": 50,
     "metadata": {},
     "output_type": "execute_result"
    }
   ],
   "source": [
    "a =10;b=4\n",
    "bin(a)"
   ]
  },
  {
   "cell_type": "code",
   "execution_count": 51,
   "id": "2a2f817a",
   "metadata": {},
   "outputs": [
    {
     "data": {
      "text/plain": [
       "'0b100'"
      ]
     },
     "execution_count": 51,
     "metadata": {},
     "output_type": "execute_result"
    }
   ],
   "source": [
    "bin(b)"
   ]
  },
  {
   "cell_type": "code",
   "execution_count": 52,
   "id": "d1a9f87e",
   "metadata": {},
   "outputs": [
    {
     "data": {
      "text/plain": [
       "0"
      ]
     },
     "execution_count": 52,
     "metadata": {},
     "output_type": "execute_result"
    }
   ],
   "source": [
    "a & b"
   ]
  },
  {
   "cell_type": "code",
   "execution_count": 53,
   "id": "ea600c4b",
   "metadata": {},
   "outputs": [
    {
     "data": {
      "text/plain": [
       "14"
      ]
     },
     "execution_count": 53,
     "metadata": {},
     "output_type": "execute_result"
    }
   ],
   "source": [
    "a|b"
   ]
  },
  {
   "cell_type": "code",
   "execution_count": 54,
   "id": "0fe99481",
   "metadata": {},
   "outputs": [
    {
     "data": {
      "text/plain": [
       "'0b1110'"
      ]
     },
     "execution_count": 54,
     "metadata": {},
     "output_type": "execute_result"
    }
   ],
   "source": [
    "bin(14)"
   ]
  },
  {
   "cell_type": "code",
   "execution_count": 55,
   "id": "d6cef1d8",
   "metadata": {},
   "outputs": [
    {
     "data": {
      "text/plain": [
       "14"
      ]
     },
     "execution_count": 55,
     "metadata": {},
     "output_type": "execute_result"
    }
   ],
   "source": [
    "a^b"
   ]
  },
  {
   "cell_type": "code",
   "execution_count": null,
   "id": "dd7cc9ed",
   "metadata": {},
   "outputs": [],
   "source": []
  }
 ],
 "metadata": {
  "kernelspec": {
   "display_name": "Python 3 (ipykernel)",
   "language": "python",
   "name": "python3"
  },
  "language_info": {
   "codemirror_mode": {
    "name": "ipython",
    "version": 3
   },
   "file_extension": ".py",
   "mimetype": "text/x-python",
   "name": "python",
   "nbconvert_exporter": "python",
   "pygments_lexer": "ipython3",
   "version": "3.11.4"
  }
 },
 "nbformat": 4,
 "nbformat_minor": 5
}
