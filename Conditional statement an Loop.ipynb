{
 "cells": [
  {
   "cell_type": "code",
   "execution_count": 13,
   "id": "d00d0a7c",
   "metadata": {},
   "outputs": [
    {
     "name": "stdout",
     "output_type": "stream",
     "text": [
      "i will buy shirt\n"
     ]
    }
   ],
   "source": [
    "a = 500\n",
    "shirt_price=200\n",
    "pant_price=500\n",
    "coat_price=800\n",
    "if coat_price <=a:\n",
    "    print(\"i will be able to buy coat\")\n",
    "elif pant_price<500:\n",
    "    print(\"will but pant\")\n",
    "elif shirt_price<500:\n",
    "    print(\"i will buy shirt\")\n",
    "else:\n",
    "    print(\"i wont be able to buy\")\n",
    "    "
   ]
  },
  {
   "cell_type": "code",
   "execution_count": 12,
   "id": "97931806",
   "metadata": {},
   "outputs": [
    {
     "data": {
      "text/plain": [
       "False"
      ]
     },
     "execution_count": 12,
     "metadata": {},
     "output_type": "execute_result"
    }
   ],
   "source": [
    "price<=500"
   ]
  },
  {
   "cell_type": "code",
   "execution_count": 18,
   "id": "dc90a526",
   "metadata": {},
   "outputs": [
    {
     "name": "stdout",
     "output_type": "stream",
     "text": [
      "i is uner my buget\n",
      "my fav color is not avaialble .will move to next store\n"
     ]
    }
   ],
   "source": [
    "a = 500\n",
    "shirt_price=200\n",
    "pant_price=500\n",
    "coat_price=800\n",
    "my_size='M'\n",
    "size_store=['L','XL','XXL','XXXL','M']\n",
    "my_fav_clr='White'\n",
    "store_clr=['re','blue','pink','orange']\n",
    "if coat_price <=a:\n",
    "    print(\"i will be able to buy coat\")\n",
    "elif pant_price<500:\n",
    "    print(\"will but pant\")\n",
    "elif shirt_price<500:\n",
    "    print(\"i is uner my buget\")\n",
    "    if my_size in size_store:\n",
    "        if my_fav_clr in store_clr:\n",
    "            print(\"yes i will try to choose it\")\n",
    "        else:\n",
    "            print(\"my fav color is not avaialble .will move to next store\")\n",
    "    else:\n",
    "        print(\"my size not avaialble\")\n",
    "else:\n",
    "    print(\"i wont be able to buy\")\n"
   ]
  },
  {
   "cell_type": "code",
   "execution_count": 19,
   "id": "95987cd3",
   "metadata": {},
   "outputs": [
    {
     "name": "stdout",
     "output_type": "stream",
     "text": [
      "i am oing thsi course\n"
     ]
    }
   ],
   "source": [
    "course=['FSM','FSA','JAVA','BIG FATA','FA']\n",
    "price=20000\n",
    "mentor='sufanshu kumar'\n",
    "\n",
    "if 'FSM' in course and price==20000 and \"sufanshu kumar\"==mentor:\n",
    "    print(\"i am oing thsi course\")"
   ]
  },
  {
   "cell_type": "code",
   "execution_count": 21,
   "id": "e1849b82",
   "metadata": {},
   "outputs": [
    {
     "name": "stdout",
     "output_type": "stream",
     "text": [
      "enter your user namejat\n",
      "enter correct user name and password\n"
     ]
    }
   ],
   "source": [
    "user_name=\"sudh\"\n",
    "password=\"sudh@1234\"\n",
    "if user_name==input(\"enter your user name\") and password== input(\"enter your password\") :\n",
    "    print(\"you have logge in coorectly\")\n",
    "else:\n",
    "    print(\"enter correct user name and password\")"
   ]
  },
  {
   "cell_type": "code",
   "execution_count": 22,
   "id": "4b518c01",
   "metadata": {},
   "outputs": [
    {
     "name": "stdout",
     "output_type": "stream",
     "text": [
      "enter your registere mobile number123456\n",
      "you are registere user\n",
      "enter your otpy6\n"
     ]
    },
    {
     "ename": "ValueError",
     "evalue": "invalid literal for int() with base 10: 'y6'",
     "output_type": "error",
     "traceback": [
      "\u001b[1;31m---------------------------------------------------------------------------\u001b[0m",
      "\u001b[1;31mValueError\u001b[0m                                Traceback (most recent call last)",
      "Cell \u001b[1;32mIn[22], line 5\u001b[0m\n\u001b[0;32m      3\u001b[0m \u001b[38;5;28;01mif\u001b[39;00m mobile_no\u001b[38;5;241m==\u001b[39m\u001b[38;5;28mint\u001b[39m(\u001b[38;5;28minput\u001b[39m(\u001b[38;5;124m\"\u001b[39m\u001b[38;5;124menter your registere mobile number\u001b[39m\u001b[38;5;124m\"\u001b[39m)):\n\u001b[0;32m      4\u001b[0m     \u001b[38;5;28mprint\u001b[39m(\u001b[38;5;124m\"\u001b[39m\u001b[38;5;124myou are registere user\u001b[39m\u001b[38;5;124m\"\u001b[39m)\n\u001b[1;32m----> 5\u001b[0m     \u001b[38;5;28;01mif\u001b[39;00m otp \u001b[38;5;241m==\u001b[39m\u001b[38;5;28mint\u001b[39m(\u001b[38;5;28minput\u001b[39m(\u001b[38;5;124m\"\u001b[39m\u001b[38;5;124menter your otp\u001b[39m\u001b[38;5;124m\"\u001b[39m)):\n\u001b[0;32m      6\u001b[0m         \u001b[38;5;28mprint\u001b[39m(\u001b[38;5;124m\"\u001b[39m\u001b[38;5;124myou have logge into successfully\u001b[39m\u001b[38;5;124m\"\u001b[39m)\n\u001b[0;32m      7\u001b[0m     \u001b[38;5;28;01melse\u001b[39;00m :\n",
      "\u001b[1;31mValueError\u001b[0m: invalid literal for int() with base 10: 'y6'"
     ]
    }
   ],
   "source": [
    "mobile_no=123456\n",
    "otp=1234\n",
    "if mobile_no==int(input(\"enter your registere mobile number\")):\n",
    "    print(\"you are registere user\")\n",
    "    if otp ==int(input(\"enter your otp\")):\n",
    "        print(\"you have logge into successfully\")\n",
    "    else :\n",
    "        print(\"otp is not correct\")\n",
    "else:\n",
    "    print(\"mobile number is not correct\")"
   ]
  },
  {
   "cell_type": "code",
   "execution_count": 23,
   "id": "3f252e29",
   "metadata": {},
   "outputs": [
    {
     "name": "stdout",
     "output_type": "stream",
     "text": [
      "12\n",
      "3\n",
      "3\n",
      "4\n",
      "5\n",
      "6\n",
      "6\n"
     ]
    }
   ],
   "source": [
    "l=[12,3,3,4,5,6,6]\n",
    "for i in l :\n",
    "    print(i)"
   ]
  },
  {
   "cell_type": "code",
   "execution_count": 28,
   "id": "bc60deb1",
   "metadata": {},
   "outputs": [
    {
     "ename": "TypeError",
     "evalue": "'tuple' object cannot be interpreted as an integer",
     "output_type": "error",
     "traceback": [
      "\u001b[1;31m---------------------------------------------------------------------------\u001b[0m",
      "\u001b[1;31mTypeError\u001b[0m                                 Traceback (most recent call last)",
      "Cell \u001b[1;32mIn[28], line 2\u001b[0m\n\u001b[0;32m      1\u001b[0m j\u001b[38;5;241m=\u001b[39m\u001b[38;5;241m1\u001b[39m,\u001b[38;5;241m2\u001b[39m,\u001b[38;5;241m35\u001b[39m,\u001b[38;5;241m4\u001b[39m,\u001b[38;5;241m5\u001b[39m,\u001b[38;5;241m6\u001b[39m\n\u001b[1;32m----> 2\u001b[0m \u001b[38;5;28mrange\u001b[39m(j)\n",
      "\u001b[1;31mTypeError\u001b[0m: 'tuple' object cannot be interpreted as an integer"
     ]
    }
   ],
   "source": [
    "j=1,2,35,4,5,6\n",
    "range(j)"
   ]
  },
  {
   "cell_type": "code",
   "execution_count": 31,
   "id": "e0f0874e",
   "metadata": {},
   "outputs": [
    {
     "name": "stdout",
     "output_type": "stream",
     "text": [
      "2342323\n",
      "3543442\n",
      "5433433\n",
      "23432\n",
      "user is registere\n",
      "yes stuent details are avaialble in db\n",
      "course access to this user is  ['dsa', 'dsm', 'big data']\n",
      "34564554\n",
      "3454545\n"
     ]
    }
   ],
   "source": [
    "mobile_no=[2342323,3543442,5433433,23432,34564554,3454545]\n",
    "l=[2,2,3,4,5,6,6]\n",
    "stud_mo=23432\n",
    "stud_details={'mobile_no':23432,'course':['dsa','dsm','big data']}\n",
    "\n",
    "for i in mobile_no:\n",
    "    print(i)\n",
    "    if i==stud_mo:\n",
    "        print(\"user is registere\")\n",
    "        if i==stud_details['mobile_no']:\n",
    "            print(\"yes stuent details are avaialble in db\")\n",
    "            print(\"course access to this user is \",stud_details['course'])"
   ]
  },
  {
   "cell_type": "code",
   "execution_count": 39,
   "id": "40573b58",
   "metadata": {},
   "outputs": [
    {
     "name": "stdout",
     "output_type": "stream",
     "text": [
      "[12, 3, 4, 5, 56]\n",
      "['sudh', 'kumar']\n"
     ]
    }
   ],
   "source": [
    "t=(12,3,4,5,56,\"sudh\",\"kumar\")\n",
    "l_int=[]\n",
    "l_str=[]\n",
    "for i in t:\n",
    "    if type(i)==str :\n",
    "        l_str.append(i) \n",
    "    elif type(i)==int:\n",
    "        l_int.append(i)\n",
    "print(l_int)\n",
    "print(l_str)"
   ]
  },
  {
   "cell_type": "code",
   "execution_count": 40,
   "id": "15def077",
   "metadata": {},
   "outputs": [
    {
     "name": "stdout",
     "output_type": "stream",
     "text": [
      "3\n",
      "4\n",
      "5\n",
      "7\n",
      "8\n",
      "56\n",
      "76\n"
     ]
    }
   ],
   "source": [
    "s={3,4,5,56,76,7,7,8,8}\n",
    "for i in s:\n",
    "    print(i)"
   ]
  },
  {
   "cell_type": "code",
   "execution_count": 42,
   "id": "524feb78",
   "metadata": {},
   "outputs": [],
   "source": [
    "d={'name':'sudh','class':['big data',\"data anlytics\",'dsa','data science'],'mobile_no':345677888,'email_id':'saeetft@gmail.com'}"
   ]
  },
  {
   "cell_type": "code",
   "execution_count": 43,
   "id": "fe8576d3",
   "metadata": {},
   "outputs": [
    {
     "data": {
      "text/plain": [
       "{'name': 'sudh',\n",
       " 'class': ['big data', 'data anlytics', 'dsa', 'data science'],\n",
       " 'mobile_no': 345677888,\n",
       " 'email_id': 'saeetft@gmail.com'}"
      ]
     },
     "execution_count": 43,
     "metadata": {},
     "output_type": "execute_result"
    }
   ],
   "source": [
    "d"
   ]
  },
  {
   "cell_type": "code",
   "execution_count": 46,
   "id": "3a9807f6",
   "metadata": {},
   "outputs": [
    {
     "name": "stdout",
     "output_type": "stream",
     "text": [
      "sudh\n",
      "yes this mentor teach dsa\n",
      "['big data', 'data anlytics', 'dsa', 'data science']\n",
      "345677888\n",
      "saeetft@gmail.com\n"
     ]
    }
   ],
   "source": [
    "for i in d.values():\n",
    "    if type(i)==list:\n",
    "        if \"dsa\" in i:\n",
    "            print(\"yes this mentor teach dsa\")\n",
    "    print(i)"
   ]
  },
  {
   "cell_type": "code",
   "execution_count": 47,
   "id": "9e96a707",
   "metadata": {},
   "outputs": [],
   "source": [
    "def test1():\n",
    "    print(\"test\")"
   ]
  },
  {
   "cell_type": "code",
   "execution_count": 48,
   "id": "ec9d2564",
   "metadata": {},
   "outputs": [
    {
     "name": "stdout",
     "output_type": "stream",
     "text": [
      "test\n"
     ]
    }
   ],
   "source": [
    "test1()"
   ]
  },
  {
   "cell_type": "code",
   "execution_count": 49,
   "id": "50d95335",
   "metadata": {},
   "outputs": [],
   "source": [
    "def test3():\n",
    "    return 1+2"
   ]
  },
  {
   "cell_type": "code",
   "execution_count": 50,
   "id": "ea8cbe22",
   "metadata": {},
   "outputs": [
    {
     "data": {
      "text/plain": [
       "3"
      ]
     },
     "execution_count": 50,
     "metadata": {},
     "output_type": "execute_result"
    }
   ],
   "source": [
    "test3()"
   ]
  },
  {
   "cell_type": "code",
   "execution_count": 51,
   "id": "cc6ccc84",
   "metadata": {},
   "outputs": [
    {
     "data": {
      "text/plain": [
       "13"
      ]
     },
     "execution_count": 51,
     "metadata": {},
     "output_type": "execute_result"
    }
   ],
   "source": [
    "test3()+10"
   ]
  },
  {
   "cell_type": "code",
   "execution_count": 52,
   "id": "039e9d77",
   "metadata": {},
   "outputs": [],
   "source": [
    "def test4():\n",
    "    return 2,\"sudh\",True,[1,2,3,4,5]"
   ]
  },
  {
   "cell_type": "code",
   "execution_count": 54,
   "id": "1c9fd9da",
   "metadata": {},
   "outputs": [
    {
     "data": {
      "text/plain": [
       "(2, 'sudh', True, [1, 2, 3, 4, 5])"
      ]
     },
     "execution_count": 54,
     "metadata": {},
     "output_type": "execute_result"
    }
   ],
   "source": [
    "test4()"
   ]
  },
  {
   "cell_type": "code",
   "execution_count": 55,
   "id": "53a2e913",
   "metadata": {},
   "outputs": [
    {
     "data": {
      "text/plain": [
       "tuple"
      ]
     },
     "execution_count": 55,
     "metadata": {},
     "output_type": "execute_result"
    }
   ],
   "source": [
    "type(test4())"
   ]
  },
  {
   "cell_type": "code",
   "execution_count": 56,
   "id": "e06412ab",
   "metadata": {},
   "outputs": [],
   "source": [
    "m,n,o,p=test4()"
   ]
  },
  {
   "cell_type": "code",
   "execution_count": 57,
   "id": "058fe5e2",
   "metadata": {},
   "outputs": [
    {
     "data": {
      "text/plain": [
       "2"
      ]
     },
     "execution_count": 57,
     "metadata": {},
     "output_type": "execute_result"
    }
   ],
   "source": [
    "m"
   ]
  },
  {
   "cell_type": "code",
   "execution_count": 58,
   "id": "0de52072",
   "metadata": {},
   "outputs": [
    {
     "data": {
      "text/plain": [
       "'sudh'"
      ]
     },
     "execution_count": 58,
     "metadata": {},
     "output_type": "execute_result"
    }
   ],
   "source": [
    "n"
   ]
  },
  {
   "cell_type": "code",
   "execution_count": 59,
   "id": "cf932e90",
   "metadata": {},
   "outputs": [
    {
     "data": {
      "text/plain": [
       "True"
      ]
     },
     "execution_count": 59,
     "metadata": {},
     "output_type": "execute_result"
    }
   ],
   "source": [
    "o"
   ]
  },
  {
   "cell_type": "code",
   "execution_count": 60,
   "id": "21ef307f",
   "metadata": {},
   "outputs": [
    {
     "data": {
      "text/plain": [
       "[1, 2, 3, 4, 5]"
      ]
     },
     "execution_count": 60,
     "metadata": {},
     "output_type": "execute_result"
    }
   ],
   "source": [
    "p"
   ]
  },
  {
   "cell_type": "code",
   "execution_count": 61,
   "id": "a71b4b41",
   "metadata": {},
   "outputs": [
    {
     "ename": "NameError",
     "evalue": "name 'q' is not defined",
     "output_type": "error",
     "traceback": [
      "\u001b[1;31m---------------------------------------------------------------------------\u001b[0m",
      "\u001b[1;31mNameError\u001b[0m                                 Traceback (most recent call last)",
      "Cell \u001b[1;32mIn[61], line 1\u001b[0m\n\u001b[1;32m----> 1\u001b[0m q\n",
      "\u001b[1;31mNameError\u001b[0m: name 'q' is not defined"
     ]
    }
   ],
   "source": [
    "q"
   ]
  },
  {
   "cell_type": "code",
   "execution_count": 62,
   "id": "420bfbbb",
   "metadata": {},
   "outputs": [],
   "source": [
    "def test9(c,d):\n",
    "    \"\"\"this is the function which can take two input\"\"\"\n",
    "    return c+d"
   ]
  },
  {
   "cell_type": "code",
   "execution_count": 63,
   "id": "ee4ba4f4",
   "metadata": {},
   "outputs": [
    {
     "data": {
      "text/plain": [
       "11"
      ]
     },
     "execution_count": 63,
     "metadata": {},
     "output_type": "execute_result"
    }
   ],
   "source": [
    "test9(5,6)"
   ]
  },
  {
   "cell_type": "code",
   "execution_count": 64,
   "id": "5a1743a5",
   "metadata": {},
   "outputs": [],
   "source": [
    "def test10(*args):\n",
    "    return args"
   ]
  },
  {
   "cell_type": "code",
   "execution_count": 65,
   "id": "c8a5156d",
   "metadata": {},
   "outputs": [
    {
     "data": {
      "text/plain": [
       "(2, 3, 4, 5, 6)"
      ]
     },
     "execution_count": 65,
     "metadata": {},
     "output_type": "execute_result"
    }
   ],
   "source": [
    "test10(2,3,4,5,6)"
   ]
  },
  {
   "cell_type": "code",
   "execution_count": 66,
   "id": "53a5453e",
   "metadata": {},
   "outputs": [],
   "source": [
    "def test11(*sudh):\n",
    "    return sudh\n"
   ]
  },
  {
   "cell_type": "code",
   "execution_count": 67,
   "id": "73aed3e0",
   "metadata": {},
   "outputs": [
    {
     "data": {
      "text/plain": [
       "(3, 4, 56, 6)"
      ]
     },
     "execution_count": 67,
     "metadata": {},
     "output_type": "execute_result"
    }
   ],
   "source": [
    "test11(3,4,56,6)"
   ]
  },
  {
   "cell_type": "code",
   "execution_count": 69,
   "id": "c094425e",
   "metadata": {},
   "outputs": [],
   "source": [
    "def test12(**kwargs):\n",
    "    return kwargs\n",
    "\n"
   ]
  },
  {
   "cell_type": "code",
   "execution_count": 72,
   "id": "7a9b1385",
   "metadata": {},
   "outputs": [
    {
     "data": {
      "text/plain": [
       "{'a': 1, 'b': 2, 'c': 3, 'd': 4}"
      ]
     },
     "execution_count": 72,
     "metadata": {},
     "output_type": "execute_result"
    }
   ],
   "source": [
    "test12(a=1,b=2,c=3,d=4)"
   ]
  },
  {
   "cell_type": "code",
   "execution_count": 74,
   "id": "e0a4bb73",
   "metadata": {},
   "outputs": [],
   "source": [
    "def test14(b,a=20,c=30):\n",
    "    return a,b,c"
   ]
  },
  {
   "cell_type": "code",
   "execution_count": 75,
   "id": "f9e8b62b",
   "metadata": {},
   "outputs": [
    {
     "data": {
      "text/plain": [
       "(20, 60, 30)"
      ]
     },
     "execution_count": 75,
     "metadata": {},
     "output_type": "execute_result"
    }
   ],
   "source": [
    "test14(60)"
   ]
  },
  {
   "cell_type": "code",
   "execution_count": 76,
   "id": "c0578288",
   "metadata": {},
   "outputs": [],
   "source": [
    "## Lamda Function"
   ]
  },
  {
   "cell_type": "code",
   "execution_count": 77,
   "id": "a619d671",
   "metadata": {},
   "outputs": [],
   "source": [
    "m=lambda a,b:a+b"
   ]
  },
  {
   "cell_type": "code",
   "execution_count": 78,
   "id": "bdb8f857",
   "metadata": {},
   "outputs": [
    {
     "data": {
      "text/plain": [
       "<function __main__.<lambda>(a, b)>"
      ]
     },
     "execution_count": 78,
     "metadata": {},
     "output_type": "execute_result"
    }
   ],
   "source": [
    "m"
   ]
  },
  {
   "cell_type": "code",
   "execution_count": 79,
   "id": "af3623ba",
   "metadata": {},
   "outputs": [
    {
     "data": {
      "text/plain": [
       "33"
      ]
     },
     "execution_count": 79,
     "metadata": {},
     "output_type": "execute_result"
    }
   ],
   "source": [
    "m(10,23)"
   ]
  },
  {
   "cell_type": "code",
   "execution_count": 83,
   "id": "47b71e9b",
   "metadata": {},
   "outputs": [],
   "source": [
    "def check_even(n):\n",
    "    if n%2==0 :\n",
    "        return \"given number is even\"\n",
    "    else:\n",
    "        return \"number is odd\""
   ]
  },
  {
   "cell_type": "code",
   "execution_count": 84,
   "id": "587e89ef",
   "metadata": {},
   "outputs": [
    {
     "data": {
      "text/plain": [
       "'number is odd'"
      ]
     },
     "execution_count": 84,
     "metadata": {},
     "output_type": "execute_result"
    }
   ],
   "source": [
    "check_even(3)"
   ]
  },
  {
   "cell_type": "code",
   "execution_count": 88,
   "id": "fbac6465",
   "metadata": {},
   "outputs": [],
   "source": [
    "b=lambda n:\"given number is even\" if n%2==0 else \"given number is odd\" "
   ]
  },
  {
   "cell_type": "code",
   "execution_count": 89,
   "id": "c12fabb0",
   "metadata": {},
   "outputs": [
    {
     "data": {
      "text/plain": [
       "'given number is even'"
      ]
     },
     "execution_count": 89,
     "metadata": {},
     "output_type": "execute_result"
    }
   ],
   "source": [
    "b(4)"
   ]
  },
  {
   "cell_type": "code",
   "execution_count": 90,
   "id": "7bb7410a",
   "metadata": {},
   "outputs": [
    {
     "data": {
      "text/plain": [
       "'given number is odd'"
      ]
     },
     "execution_count": 90,
     "metadata": {},
     "output_type": "execute_result"
    }
   ],
   "source": [
    "b(5)"
   ]
  },
  {
   "cell_type": "code",
   "execution_count": 91,
   "id": "3e92bfe1",
   "metadata": {},
   "outputs": [],
   "source": [
    "l=[3,4,5,76,3,2,3,4,5]"
   ]
  },
  {
   "cell_type": "code",
   "execution_count": 92,
   "id": "b5e8bee9",
   "metadata": {},
   "outputs": [],
   "source": [
    "i(min_list =lambda li:min(li)"
   ]
  },
  {
   "cell_type": "code",
   "execution_count": 93,
   "id": "519ab79f",
   "metadata": {},
   "outputs": [
    {
     "data": {
      "text/plain": [
       "2"
      ]
     },
     "execution_count": 93,
     "metadata": {},
     "output_type": "execute_result"
    }
   ],
   "source": [
    "min_list(l)"
   ]
  },
  {
   "cell_type": "code",
   "execution_count": 94,
   "id": "395ab9d1",
   "metadata": {},
   "outputs": [],
   "source": [
    "div =lambda a,b : a/b"
   ]
  },
  {
   "cell_type": "code",
   "execution_count": 95,
   "id": "9ec20626",
   "metadata": {},
   "outputs": [
    {
     "data": {
      "text/plain": [
       "0.8333333333333334"
      ]
     },
     "execution_count": 95,
     "metadata": {},
     "output_type": "execute_result"
    }
   ],
   "source": [
    "div(5,6)"
   ]
  },
  {
   "cell_type": "code",
   "execution_count": 96,
   "id": "91ba0a95",
   "metadata": {},
   "outputs": [],
   "source": [
    "upper=lambda s:s.upper()"
   ]
  },
  {
   "cell_type": "code",
   "execution_count": 98,
   "id": "22c1bfdb",
   "metadata": {},
   "outputs": [
    {
     "data": {
      "text/plain": [
       "'JATIN'"
      ]
     },
     "execution_count": 98,
     "metadata": {},
     "output_type": "execute_result"
    }
   ],
   "source": [
    "upper('jatin')"
   ]
  },
  {
   "cell_type": "code",
   "execution_count": 104,
   "id": "1527efc4",
   "metadata": {},
   "outputs": [],
   "source": [
    "l=[3,4,5,76,3,2,3,4,5]\n",
    "def sum_odd(b):\n",
    "    l1= []\n",
    "    for i in b:\n",
    "        if i%2!=0:\n",
    "            l1.append(i)\n",
    "    return sum(l1)\n",
    "    \n",
    "        \n",
    "    "
   ]
  },
  {
   "cell_type": "code",
   "execution_count": 107,
   "id": "1debe853",
   "metadata": {},
   "outputs": [
    {
     "data": {
      "text/plain": [
       "19"
      ]
     },
     "execution_count": 107,
     "metadata": {},
     "output_type": "execute_result"
    }
   ],
   "source": [
    "sum_odd(l)"
   ]
  },
  {
   "cell_type": "code",
   "execution_count": 110,
   "id": "958ff063",
   "metadata": {},
   "outputs": [],
   "source": [
    "sum_off_lambda = lambda b:sum([i for i in b if i%2!=0])"
   ]
  },
  {
   "cell_type": "code",
   "execution_count": 111,
   "id": "ee35b503",
   "metadata": {},
   "outputs": [
    {
     "data": {
      "text/plain": [
       "19"
      ]
     },
     "execution_count": 111,
     "metadata": {},
     "output_type": "execute_result"
    }
   ],
   "source": [
    "sum_off_lambda(l)"
   ]
  },
  {
   "cell_type": "code",
   "execution_count": 115,
   "id": "b3714041",
   "metadata": {},
   "outputs": [],
   "source": [
    "def fact_number(n):\n",
    "    if n==0:\n",
    "        return 1\n",
    "    else : return n*fact_number(n-1)\n",
    "        "
   ]
  },
  {
   "cell_type": "code",
   "execution_count": 118,
   "id": "45eeb2bb",
   "metadata": {},
   "outputs": [
    {
     "data": {
      "text/plain": [
       "121645100408832000"
      ]
     },
     "execution_count": 118,
     "metadata": {},
     "output_type": "execute_result"
    }
   ],
   "source": [
    "fact_number(19)"
   ]
  },
  {
   "cell_type": "code",
   "execution_count": 120,
   "id": "2caf0a52",
   "metadata": {},
   "outputs": [],
   "source": [
    "def fact_num(n):\n",
    "    a=1\n",
    "    for i in range(a,n+1):\n",
    "        a=i*a\n",
    "    return a\n"
   ]
  },
  {
   "cell_type": "code",
   "execution_count": 121,
   "id": "5dfad658",
   "metadata": {},
   "outputs": [
    {
     "data": {
      "text/plain": [
       "24"
      ]
     },
     "execution_count": 121,
     "metadata": {},
     "output_type": "execute_result"
    }
   ],
   "source": [
    "fact_num(4)"
   ]
  },
  {
   "cell_type": "code",
   "execution_count": 122,
   "id": "37f1b7cb",
   "metadata": {},
   "outputs": [],
   "source": [
    "l=[4,5,6,7,8,89]\n",
    "l1=[]\n",
    "for i in l:\n",
    "    l1.append(i+2)"
   ]
  },
  {
   "cell_type": "code",
   "execution_count": 123,
   "id": "f37ff640",
   "metadata": {},
   "outputs": [
    {
     "data": {
      "text/plain": [
       "[6, 7, 8, 9, 10, 91]"
      ]
     },
     "execution_count": 123,
     "metadata": {},
     "output_type": "execute_result"
    }
   ],
   "source": [
    "l1"
   ]
  },
  {
   "cell_type": "code",
   "execution_count": 126,
   "id": "80ab4f66",
   "metadata": {},
   "outputs": [],
   "source": [
    "def test34(c):\n",
    "    return c+2"
   ]
  },
  {
   "cell_type": "code",
   "execution_count": 127,
   "id": "5cb1037b",
   "metadata": {},
   "outputs": [
    {
     "data": {
      "text/plain": [
       "[6, 7, 8, 9, 10, 91]"
      ]
     },
     "execution_count": 127,
     "metadata": {},
     "output_type": "execute_result"
    }
   ],
   "source": [
    "list(map(test34,l))"
   ]
  },
  {
   "cell_type": "code",
   "execution_count": 129,
   "id": "56bf4097",
   "metadata": {},
   "outputs": [],
   "source": [
    "l=[2,3,4,5,6,6]\n",
    "from functools import reduce\n"
   ]
  },
  {
   "cell_type": "code",
   "execution_count": 131,
   "id": "c01e312d",
   "metadata": {},
   "outputs": [
    {
     "data": {
      "text/plain": [
       "26"
      ]
     },
     "execution_count": 131,
     "metadata": {},
     "output_type": "execute_result"
    }
   ],
   "source": [
    "reduce(lambda a,b:a*b,l)"
   ]
  },
  {
   "cell_type": "code",
   "execution_count": 132,
   "id": "7012d3ca",
   "metadata": {},
   "outputs": [
    {
     "data": {
      "text/plain": [
       "[2, 3, 4, 5, 6, 6]"
      ]
     },
     "execution_count": 132,
     "metadata": {},
     "output_type": "execute_result"
    }
   ],
   "source": [
    "l"
   ]
  },
  {
   "cell_type": "code",
   "execution_count": 133,
   "id": "c5b9c5bb",
   "metadata": {},
   "outputs": [
    {
     "data": {
      "text/plain": [
       "2"
      ]
     },
     "execution_count": 133,
     "metadata": {},
     "output_type": "execute_result"
    }
   ],
   "source": [
    "min(l)"
   ]
  },
  {
   "cell_type": "code",
   "execution_count": 134,
   "id": "75d8ef92",
   "metadata": {},
   "outputs": [
    {
     "data": {
      "text/plain": [
       "6"
      ]
     },
     "execution_count": 134,
     "metadata": {},
     "output_type": "execute_result"
    }
   ],
   "source": [
    "max(l)"
   ]
  },
  {
   "cell_type": "code",
   "execution_count": 135,
   "id": "417ef6a0",
   "metadata": {},
   "outputs": [
    {
     "data": {
      "text/plain": [
       "6"
      ]
     },
     "execution_count": 135,
     "metadata": {},
     "output_type": "execute_result"
    }
   ],
   "source": [
    "reduce(lambda a,b:a if a>b else b,l)"
   ]
  },
  {
   "cell_type": "code",
   "execution_count": 136,
   "id": "6ba8be4d",
   "metadata": {},
   "outputs": [],
   "source": [
    "n=4\n",
    "fact=reduce(lambda a,b :a*b,range(1,n+1))"
   ]
  },
  {
   "cell_type": "code",
   "execution_count": 137,
   "id": "80b21ec5",
   "metadata": {},
   "outputs": [
    {
     "data": {
      "text/plain": [
       "24"
      ]
     },
     "execution_count": 137,
     "metadata": {},
     "output_type": "execute_result"
    }
   ],
   "source": [
    "fact"
   ]
  },
  {
   "cell_type": "code",
   "execution_count": 138,
   "id": "78b77cfb",
   "metadata": {},
   "outputs": [
    {
     "data": {
      "text/plain": [
       "[2, 3, 4, 5, 6, 6]"
      ]
     },
     "execution_count": 138,
     "metadata": {},
     "output_type": "execute_result"
    }
   ],
   "source": [
    "l"
   ]
  },
  {
   "cell_type": "code",
   "execution_count": 145,
   "id": "4ff8a38d",
   "metadata": {},
   "outputs": [],
   "source": [
    "l1=[]\n",
    "def test14():\n",
    "    for i in l:\n",
    "        if i%2==0:\n",
    "            l1.append\n",
    "        return l1\n"
   ]
  },
  {
   "cell_type": "code",
   "execution_count": 146,
   "id": "29ed35c1",
   "metadata": {},
   "outputs": [
    {
     "data": {
      "text/plain": [
       "[]"
      ]
     },
     "execution_count": 146,
     "metadata": {},
     "output_type": "execute_result"
    }
   ],
   "source": [
    "test14()"
   ]
  },
  {
   "cell_type": "code",
   "execution_count": 147,
   "id": "422c485c",
   "metadata": {},
   "outputs": [
    {
     "data": {
      "text/plain": [
       "[2, 3, 4, 5, 6, 6]"
      ]
     },
     "execution_count": 147,
     "metadata": {},
     "output_type": "execute_result"
    }
   ],
   "source": [
    "l"
   ]
  },
  {
   "cell_type": "code",
   "execution_count": 148,
   "id": "9fceacb7",
   "metadata": {},
   "outputs": [],
   "source": [
    "s=\"Pw skills\""
   ]
  },
  {
   "cell_type": "code",
   "execution_count": 149,
   "id": "d930d2e9",
   "metadata": {},
   "outputs": [
    {
     "data": {
      "text/plain": [
       "['w', 's', 'k', 'i', 'l', 'l', 's']"
      ]
     },
     "execution_count": 149,
     "metadata": {},
     "output_type": "execute_result"
    }
   ],
   "source": [
    "list(filter(lambda a:a.islower(),s))"
   ]
  },
  {
   "cell_type": "code",
   "execution_count": 150,
   "id": "3caf6b71",
   "metadata": {},
   "outputs": [
    {
     "data": {
      "text/plain": [
       "[2, 3, 4, 5, 6, 6]"
      ]
     },
     "execution_count": 150,
     "metadata": {},
     "output_type": "execute_result"
    }
   ],
   "source": [
    "l"
   ]
  },
  {
   "cell_type": "code",
   "execution_count": 151,
   "id": "42a561b3",
   "metadata": {},
   "outputs": [],
   "source": [
    "sq=['pw','pwskills','jat','suf']"
   ]
  },
  {
   "cell_type": "code",
   "execution_count": 156,
   "id": "2f98341c",
   "metadata": {},
   "outputs": [
    {
     "data": {
      "text/plain": [
       "['pw', 'pwskills']"
      ]
     },
     "execution_count": 156,
     "metadata": {},
     "output_type": "execute_result"
    }
   ],
   "source": [
    "list(filter(lambda a:a[0]=='p',sq))"
   ]
  },
  {
   "cell_type": "code",
   "execution_count": 157,
   "id": "295a81cf",
   "metadata": {},
   "outputs": [
    {
     "ename": "TypeError",
     "evalue": "'int' object is not subscriptable",
     "output_type": "error",
     "traceback": [
      "\u001b[1;31m---------------------------------------------------------------------------\u001b[0m",
      "\u001b[1;31mTypeError\u001b[0m                                 Traceback (most recent call last)",
      "Cell \u001b[1;32mIn[157], line 1\u001b[0m\n\u001b[1;32m----> 1\u001b[0m a[\u001b[38;5;241m0\u001b[39m]\n",
      "\u001b[1;31mTypeError\u001b[0m: 'int' object is not subscriptable"
     ]
    }
   ],
   "source": [
    "a[0]"
   ]
  },
  {
   "cell_type": "code",
   "execution_count": null,
   "id": "400d5ecf",
   "metadata": {},
   "outputs": [],
   "source": [
    "def  gen_fib(n):\n",
    "    "
   ]
  }
 ],
 "metadata": {
  "kernelspec": {
   "display_name": "Python 3 (ipykernel)",
   "language": "python",
   "name": "python3"
  },
  "language_info": {
   "codemirror_mode": {
    "name": "ipython",
    "version": 3
   },
   "file_extension": ".py",
   "mimetype": "text/x-python",
   "name": "python",
   "nbconvert_exporter": "python",
   "pygments_lexer": "ipython3",
   "version": "3.11.4"
  }
 },
 "nbformat": 4,
 "nbformat_minor": 5
}
