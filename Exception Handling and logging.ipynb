{
 "cells": [
  {
   "cell_type": "code",
   "execution_count": 5,
   "id": "654fce75",
   "metadata": {},
   "outputs": [
    {
     "name": "stdout",
     "output_type": "stream",
     "text": [
      "enter a value for a4\n",
      "enter a value for b0\n"
     ]
    }
   ],
   "source": [
    "a=int(input(\"enter a value for a\"))\n",
    "b=int(input(\"enter a value for b\"))"
   ]
  },
  {
   "cell_type": "code",
   "execution_count": 6,
   "id": "7182888c",
   "metadata": {},
   "outputs": [
    {
     "data": {
      "text/plain": [
       "0"
      ]
     },
     "execution_count": 6,
     "metadata": {},
     "output_type": "execute_result"
    }
   ],
   "source": [
    "a*b"
   ]
  },
  {
   "cell_type": "code",
   "execution_count": 7,
   "id": "ef656763",
   "metadata": {},
   "outputs": [
    {
     "ename": "ZeroDivisionError",
     "evalue": "division by zero",
     "output_type": "error",
     "traceback": [
      "\u001b[1;31m---------------------------------------------------------------------------\u001b[0m",
      "\u001b[1;31mZeroDivisionError\u001b[0m                         Traceback (most recent call last)",
      "Cell \u001b[1;32mIn[7], line 1\u001b[0m\n\u001b[1;32m----> 1\u001b[0m a\u001b[38;5;241m/\u001b[39mb\n",
      "\u001b[1;31mZeroDivisionError\u001b[0m: division by zero"
     ]
    }
   ],
   "source": [
    "a/b"
   ]
  },
  {
   "cell_type": "code",
   "execution_count": 20,
   "id": "602103c7",
   "metadata": {},
   "outputs": [],
   "source": [
    "l=[4,5,6,7,8,9,0]\n",
    "l1=[]\n",
    "def even_parser(l):\n",
    "    try:\n",
    "        for i in l:\n",
    "            if i%2==0:\n",
    "                l1.append(i)\n",
    "        return l1\n",
    "    except:\n",
    "        pass"
   ]
  },
  {
   "cell_type": "code",
   "execution_count": 21,
   "id": "4c11f714",
   "metadata": {},
   "outputs": [],
   "source": [
    "even_parser(6)"
   ]
  },
  {
   "cell_type": "code",
   "execution_count": 27,
   "id": "48b776eb",
   "metadata": {},
   "outputs": [
    {
     "name": "stdout",
     "output_type": "stream",
     "text": [
      "enter value of aa\n",
      "print something\n"
     ]
    }
   ],
   "source": [
    "try :\n",
    "    a=int(input(\"enter value of a\"))\n",
    "    b=int(input(\"enter value of b\"))\n",
    "    c=a/b\n",
    "    print(c)\n",
    "except:\n",
    "    pass\n",
    "print(\"print something\")"
   ]
  },
  {
   "cell_type": "code",
   "execution_count": 29,
   "id": "79590857",
   "metadata": {},
   "outputs": [
    {
     "name": "stdout",
     "output_type": "stream",
     "text": [
      "division by zero\n"
     ]
    }
   ],
   "source": [
    "try:\n",
    "    c=6/0\n",
    "except TypeError as t:\n",
    "    print(t)\n",
    "except ZeroDivisionError as z :\n",
    "    print(z)"
   ]
  },
  {
   "cell_type": "code",
   "execution_count": 32,
   "id": "198d5962",
   "metadata": {},
   "outputs": [
    {
     "name": "stdout",
     "output_type": "stream",
     "text": [
      "this will execute itself once try will execute without an error\n",
      "this will execute always\n"
     ]
    }
   ],
   "source": [
    "try :\n",
    "    x=5/1\n",
    "except ZeroDivisionError as z:\n",
    "    print(z)\n",
    "else:\n",
    "    print(\"this will execute itself once try will execute without an error\")\n",
    "finally:\n",
    "    print(\"this will execute always\")"
   ]
  },
  {
   "cell_type": "code",
   "execution_count": 33,
   "id": "2b8103a8",
   "metadata": {},
   "outputs": [
    {
     "data": {
      "text/plain": [
       "'C:\\\\Users\\\\win'"
      ]
     },
     "execution_count": 33,
     "metadata": {},
     "output_type": "execute_result"
    }
   ],
   "source": [
    "pwd"
   ]
  },
  {
   "cell_type": "code",
   "execution_count": 34,
   "id": "d43311f0",
   "metadata": {},
   "outputs": [
    {
     "data": {
      "text/plain": [
       "'jatin is brilliant an very intelligent'"
      ]
     },
     "execution_count": 34,
     "metadata": {},
     "output_type": "execute_result"
    }
   ],
   "source": [
    "file_name=\"test.txt\"\n",
    "f=open(file_name)\n",
    "f.read()"
   ]
  },
  {
   "cell_type": "code",
   "execution_count": 47,
   "id": "3536e1e4",
   "metadata": {},
   "outputs": [
    {
     "name": "stdout",
     "output_type": "stream",
     "text": [
      "4\n",
      "4\n",
      "454\n",
      "Not Weird\n"
     ]
    }
   ],
   "source": [
    "n = int(input().strip())\n",
    "\n",
    "\n",
    "if n % 2 == 1:\n",
    "        print(\"Weird\")\n",
    "else:\n",
    "        print(n)\n",
    "        if 2<=n<=5:\n",
    "            print(\"454\")\n",
    "            print(\"Not Weird\")\n",
    "        elif 6 <= n <= 20:\n",
    "            print(\"Weird\")\n",
    "        elif n>20:\n",
    "            print(\"Not Weird\")\n",
    "   "
   ]
  },
  {
   "cell_type": "code",
   "execution_count": 46,
   "id": "28c73de8",
   "metadata": {},
   "outputs": [
    {
     "name": "stdout",
     "output_type": "stream",
     "text": [
      "enter height of the wall-67\n",
      "enter height is negative\n"
     ]
    }
   ],
   "source": [
    "try:\n",
    "    a=int(input(\"enter height of the wall\"))\n",
    "    if a<0:\n",
    "        raise ValueError(\"enter height is negative\")\n",
    "except ValueError as v:\n",
    "    print(v)\n"
   ]
  },
  {
   "cell_type": "code",
   "execution_count": null,
   "id": "e18255ec",
   "metadata": {},
   "outputs": [],
   "source": [
    "    if n%2 != 0:\n",
    "        print(\"Weird\")\n",
    "    else:\n",
    "        if n>=2 and n<=5:\n",
    "            print(\"Not Weird\")\n",
    "        elif n>=6 and n<=20:\n",
    "            print(\"Weird\")\n",
    "        else:\n",
    "            print(\"Not Weird\")"
   ]
  },
  {
   "cell_type": "code",
   "execution_count": 1,
   "id": "165d61be",
   "metadata": {},
   "outputs": [],
   "source": [
    "import logging as log\n",
    "log.basicConfig(filename='test.log',level=log.INFO)"
   ]
  },
  {
   "cell_type": "code",
   "execution_count": 2,
   "id": "febbe346",
   "metadata": {},
   "outputs": [
    {
     "ename": "NameError",
     "evalue": "name 'pwd' is not defined",
     "output_type": "error",
     "traceback": [
      "\u001b[1;31m---------------------------------------------------------------------------\u001b[0m",
      "\u001b[1;31mNameError\u001b[0m                                 Traceback (most recent call last)",
      "Cell \u001b[1;32mIn[2], line 1\u001b[0m\n\u001b[1;32m----> 1\u001b[0m pwd\n",
      "\u001b[1;31mNameError\u001b[0m: name 'pwd' is not defined"
     ]
    }
   ],
   "source": [
    "pwd\n",
    "\n"
   ]
  },
  {
   "cell_type": "code",
   "execution_count": 3,
   "id": "1bf8fb18",
   "metadata": {},
   "outputs": [],
   "source": [
    "\n",
    "log.info(\"store a msg\")"
   ]
  },
  {
   "cell_type": "code",
   "execution_count": 4,
   "id": "36cb23c2",
   "metadata": {},
   "outputs": [],
   "source": [
    "log.debug(\"this is ebug msg\")"
   ]
  },
  {
   "cell_type": "code",
   "execution_count": 5,
   "id": "d12fd970",
   "metadata": {},
   "outputs": [],
   "source": [
    "log.warning(\"this is warning\")"
   ]
  },
  {
   "cell_type": "code",
   "execution_count": 6,
   "id": "59ec12a2",
   "metadata": {},
   "outputs": [],
   "source": [
    "log.error(\"this is error\")"
   ]
  },
  {
   "cell_type": "code",
   "execution_count": 7,
   "id": "e07d6047",
   "metadata": {},
   "outputs": [],
   "source": [
    "log.critical(\"this is critical message\")"
   ]
  },
  {
   "cell_type": "code",
   "execution_count": null,
   "id": "c74a085f",
   "metadata": {},
   "outputs": [],
   "source": []
  }
 ],
 "metadata": {
  "kernelspec": {
   "display_name": "Python 3 (ipykernel)",
   "language": "python",
   "name": "python3"
  },
  "language_info": {
   "codemirror_mode": {
    "name": "ipython",
    "version": 3
   },
   "file_extension": ".py",
   "mimetype": "text/x-python",
   "name": "python",
   "nbconvert_exporter": "python",
   "pygments_lexer": "ipython3",
   "version": "3.11.4"
  }
 },
 "nbformat": 4,
 "nbformat_minor": 5
}
