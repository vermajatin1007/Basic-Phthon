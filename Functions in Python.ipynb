{
 "cells": [
  {
   "cell_type": "code",
   "execution_count": 1,
   "id": "5bd944fe",
   "metadata": {},
   "outputs": [],
   "source": [
    "#Functions"
   ]
  },
  {
   "cell_type": "code",
   "execution_count": 2,
   "id": "7648558f",
   "metadata": {},
   "outputs": [],
   "source": [
    "def add_nums(a,b):\n",
    "    return a+b"
   ]
  },
  {
   "cell_type": "code",
   "execution_count": 3,
   "id": "aa70062c",
   "metadata": {},
   "outputs": [],
   "source": [
    "def greet():\n",
    "    print(\"hello world\")"
   ]
  },
  {
   "cell_type": "code",
   "execution_count": null,
   "id": "d2f7d489",
   "metadata": {},
   "outputs": [],
   "source": []
  },
  {
   "cell_type": "code",
   "execution_count": 4,
   "id": "30263896",
   "metadata": {},
   "outputs": [
    {
     "data": {
      "text/plain": [
       "11"
      ]
     },
     "execution_count": 4,
     "metadata": {},
     "output_type": "execute_result"
    }
   ],
   "source": [
    "add_nums(5,6)"
   ]
  },
  {
   "cell_type": "code",
   "execution_count": 5,
   "id": "40782737",
   "metadata": {},
   "outputs": [
    {
     "name": "stdout",
     "output_type": "stream",
     "text": [
      "hello world\n"
     ]
    }
   ],
   "source": [
    "greet()"
   ]
  },
  {
   "cell_type": "code",
   "execution_count": 6,
   "id": "c455b1d0",
   "metadata": {},
   "outputs": [],
   "source": [
    "def addtwonumbers():\n",
    "    a=input(\"enter first number\")\n",
    "    b=input(\"input second number\")\n",
    "    c=int(a)+int(b)\n",
    "    print(c)"
   ]
  },
  {
   "cell_type": "code",
   "execution_count": 8,
   "id": "ad78a902",
   "metadata": {},
   "outputs": [
    {
     "name": "stdout",
     "output_type": "stream",
     "text": [
      "enter first number10\n",
      "input second number20\n",
      "30\n"
     ]
    }
   ],
   "source": [
    "addtwonumbers()"
   ]
  },
  {
   "cell_type": "code",
   "execution_count": 9,
   "id": "6f04247b",
   "metadata": {},
   "outputs": [],
   "source": [
    "def introduction(name):\n",
    "    print(\"hi\",name)"
   ]
  },
  {
   "cell_type": "code",
   "execution_count": 11,
   "id": "a8e6db7c",
   "metadata": {},
   "outputs": [
    {
     "name": "stdout",
     "output_type": "stream",
     "text": [
      "hi jatin\n"
     ]
    }
   ],
   "source": [
    "introduction(\"jatin\")"
   ]
  },
  {
   "cell_type": "code",
   "execution_count": 13,
   "id": "7c1e4b08",
   "metadata": {},
   "outputs": [],
   "source": [
    "def absolute(n):\n",
    "    if n>0:\n",
    "        print(n)\n",
    "    else:\n",
    "        print(-n)\n",
    "    "
   ]
  },
  {
   "cell_type": "code",
   "execution_count": 14,
   "id": "95e1edc2",
   "metadata": {},
   "outputs": [
    {
     "name": "stdout",
     "output_type": "stream",
     "text": [
      "5\n"
     ]
    }
   ],
   "source": [
    "absolute(-5)"
   ]
  },
  {
   "cell_type": "code",
   "execution_count": null,
   "id": "897ec8dd",
   "metadata": {},
   "outputs": [],
   "source": []
  }
 ],
 "metadata": {
  "kernelspec": {
   "display_name": "Python 3 (ipykernel)",
   "language": "python",
   "name": "python3"
  },
  "language_info": {
   "codemirror_mode": {
    "name": "ipython",
    "version": 3
   },
   "file_extension": ".py",
   "mimetype": "text/x-python",
   "name": "python",
   "nbconvert_exporter": "python",
   "pygments_lexer": "ipython3",
   "version": "3.11.4"
  }
 },
 "nbformat": 4,
 "nbformat_minor": 5
}
